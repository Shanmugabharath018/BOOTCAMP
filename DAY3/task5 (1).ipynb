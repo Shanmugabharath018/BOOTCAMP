{
 "cells": [
  {
   "cell_type": "code",
   "execution_count": 3,
   "id": "84c967cf-b885-4d29-9e0c-942615ec86b5",
   "metadata": {},
   "outputs": [
    {
     "name": "stdout",
     "output_type": "stream",
     "text": [
      "animal\n",
      "animal\n",
      "animal\n",
      "speaks....\n",
      "speaks.....\n",
      "speaks.....\n"
     ]
    }
   ],
   "source": [
    "class animal:\n",
    "    def __init__(self):\n",
    "        print(\"animal\")\n",
    "    def speak(self):\n",
    "        print(\"speaks....\")\n",
    "class Dog(animal):\n",
    "    def __init__(self):\n",
    "        super().__init__()\n",
    "    def speak(self):\n",
    "        print(\"speaks.....\")\n",
    "class cat(animal):\n",
    "    def __init__(self):\n",
    "        super().__init__()\n",
    "    def speak(self):\n",
    "        print(\"speaks.....\")\n",
    "animal=animal()\n",
    "dog=Dog()\n",
    "cat=cat()\n",
    "\n",
    "def animal_speaks(obj):\n",
    "    speak.obj\n",
    "animal.speak()\n",
    "dog.speak()\n",
    "cat.speak()"
   ]
  },
  {
   "cell_type": "code",
   "execution_count": null,
   "id": "35ead116-4ff0-428c-81fd-b8475000fd5b",
   "metadata": {},
   "outputs": [],
   "source": []
  }
 ],
 "metadata": {
  "kernelspec": {
   "display_name": "Python 3 (ipykernel)",
   "language": "python",
   "name": "python3"
  },
  "language_info": {
   "codemirror_mode": {
    "name": "ipython",
    "version": 3
   },
   "file_extension": ".py",
   "mimetype": "text/x-python",
   "name": "python",
   "nbconvert_exporter": "python",
   "pygments_lexer": "ipython3",
   "version": "3.12.4"
  }
 },
 "nbformat": 4,
 "nbformat_minor": 5
}
