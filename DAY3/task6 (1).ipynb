{
 "cells": [
  {
   "cell_type": "code",
   "execution_count": 1,
   "id": "a7ab3fd4-ffdc-4d70-998e-f10fa93f6df7",
   "metadata": {},
   "outputs": [
    {
     "name": "stdout",
     "output_type": "stream",
     "text": [
      "energy levell is 100\n",
      "model\n"
     ]
    }
   ],
   "source": [
    "class robot:\n",
    "    def __init__(self,model,energy):\n",
    "        self._model=model\n",
    "        self.__energy_level=energy\n",
    "    def set__energy_level(self):\n",
    "        print(\"energy levell is 100\")\n",
    "    def set_model(self):\n",
    "        print(\"model\")\n",
    "my_robot=robot(\"t800\",100)\n",
    "my_robot.set__energy_level()\n",
    "my_robot.set_model()"
   ]
  },
  {
   "cell_type": "code",
   "execution_count": null,
   "id": "eabde98f-085c-4834-b4d9-6863492179c7",
   "metadata": {},
   "outputs": [],
   "source": []
  }
 ],
 "metadata": {
  "kernelspec": {
   "display_name": "Python 3 (ipykernel)",
   "language": "python",
   "name": "python3"
  },
  "language_info": {
   "codemirror_mode": {
    "name": "ipython",
    "version": 3
   },
   "file_extension": ".py",
   "mimetype": "text/x-python",
   "name": "python",
   "nbconvert_exporter": "python",
   "pygments_lexer": "ipython3",
   "version": "3.12.4"
  }
 },
 "nbformat": 4,
 "nbformat_minor": 5
}
