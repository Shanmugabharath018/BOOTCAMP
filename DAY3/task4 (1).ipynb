{
 "cells": [
  {
   "cell_type": "code",
   "execution_count": 1,
   "id": "7355efee-b868-4934-9ab1-6b7397bd9a1a",
   "metadata": {},
   "outputs": [
    {
     "name": "stdout",
     "output_type": "stream",
     "text": [
      "Barks...\n",
      "meowwwww!\n",
      "purrrrr!\n",
      " sleepyyyyy...\n"
     ]
    }
   ],
   "source": [
    "class cat:\n",
    "    def __init__(self,name,age):\n",
    "        self.name=name\n",
    "        self.age=age\n",
    "    def meow(self):\n",
    "        print(\"meowwwww!\")\n",
    "    def purr(self):\n",
    "        print(\"purrrrr!\")\n",
    "class Dog:\n",
    "    def __init__(self, name, age):\n",
    "        self.name = name\n",
    "        self.age = age\n",
    "    def bark(self):\n",
    "        print(\"Barks...\")\n",
    "    def sleep(self):\n",
    "        print(\" sleepyyyyy...\")\n",
    "class dogcat(Dog,cat):\n",
    "    pass\n",
    "dogcat.bark(\"daisy\")\n",
    "dogcat.meow(\"cat\")\n",
    "dogcat.purr(\"cat\")\n",
    "dogcat.sleep(\"daisy\")"
   ]
  },
  {
   "cell_type": "code",
   "execution_count": null,
   "id": "dc6a82d5-fdc8-4660-9294-0bfddc94695a",
   "metadata": {},
   "outputs": [],
   "source": []
  }
 ],
 "metadata": {
  "kernelspec": {
   "display_name": "Python 3 (ipykernel)",
   "language": "python",
   "name": "python3"
  },
  "language_info": {
   "codemirror_mode": {
    "name": "ipython",
    "version": 3
   },
   "file_extension": ".py",
   "mimetype": "text/x-python",
   "name": "python",
   "nbconvert_exporter": "python",
   "pygments_lexer": "ipython3",
   "version": "3.12.4"
  }
 },
 "nbformat": 4,
 "nbformat_minor": 5
}
