{
 "cells": [
  {
   "cell_type": "code",
   "execution_count": 1,
   "id": "2d4e1ef7-eb7a-417a-bb3a-23826c92056b",
   "metadata": {},
   "outputs": [
    {
     "name": "stdout",
     "output_type": "stream",
     "text": [
      "playsssss\n",
      "Barks...\n",
      " sleepyyyyy...\n"
     ]
    }
   ],
   "source": [
    "class Dog:\n",
    "    def __init__(self,name,age):\n",
    "        self.name=name\n",
    "        self.age=age\n",
    "    def bark(self):\n",
    "        print(\"Barks...\")\n",
    "    def sleep(self):\n",
    "        print(\" sleepyyyyy...\")\n",
    "class puppy(Dog):\n",
    "    def __init__(self, name, age):\n",
    "        super().__init__(name, age)\n",
    "        self.name=name\n",
    "        self.age=age\n",
    "    def play(self):\n",
    "        print(\"playsssss\")\n",
    "my_puppy=puppy(\"daisy\",7)\n",
    "my_puppy.play()\n",
    "my_puppy.bark()\n",
    "my_puppy.sleep()"
   ]
  },
  {
   "cell_type": "code",
   "execution_count": null,
   "id": "c9c5cdab-889e-4439-9c16-04dfcbc909fe",
   "metadata": {},
   "outputs": [],
   "source": []
  }
 ],
 "metadata": {
  "kernelspec": {
   "display_name": "Python 3 (ipykernel)",
   "language": "python",
   "name": "python3"
  },
  "language_info": {
   "codemirror_mode": {
    "name": "ipython",
    "version": 3
   },
   "file_extension": ".py",
   "mimetype": "text/x-python",
   "name": "python",
   "nbconvert_exporter": "python",
   "pygments_lexer": "ipython3",
   "version": "3.12.4"
  }
 },
 "nbformat": 4,
 "nbformat_minor": 5
}
