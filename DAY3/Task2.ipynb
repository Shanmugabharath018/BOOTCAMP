{
 "cells": [
  {
   "cell_type": "code",
   "execution_count": 2,
   "id": "fcddee87-0c93-44d1-ad3b-5d627224273e",
   "metadata": {},
   "outputs": [
    {
     "name": "stdout",
     "output_type": "stream",
     "text": [
      "Dog name: daisy\n",
      "Dog age: 6\n"
     ]
    }
   ],
   "source": [
    "class Dog:\n",
    "    def __init__(self,name,age):\n",
    "        self.name=name\n",
    "        self.age=age\n",
    "my_dog=Dog(\"daisy\",6)\n",
    "print(\"Dog name:\",my_dog.name)\n",
    "print(\"Dog age:\",my_dog.age)"
   ]
  },
  {
   "cell_type": "code",
   "execution_count": null,
   "id": "c0faa4f2-3946-456a-9a86-3bf9208023ec",
   "metadata": {},
   "outputs": [],
   "source": []
  }
 ],
 "metadata": {
  "kernelspec": {
   "display_name": "Python 3 (ipykernel)",
   "language": "python",
   "name": "python3"
  },
  "language_info": {
   "codemirror_mode": {
    "name": "ipython",
    "version": 3
   },
   "file_extension": ".py",
   "mimetype": "text/x-python",
   "name": "python",
   "nbconvert_exporter": "python",
   "pygments_lexer": "ipython3",
   "version": "3.12.4"
  }
 },
 "nbformat": 4,
 "nbformat_minor": 5
}
